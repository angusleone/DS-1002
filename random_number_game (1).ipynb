{
  "nbformat": 4,
  "nbformat_minor": 0,
  "metadata": {
    "colab": {
      "provenance": []
    },
    "kernelspec": {
      "name": "python3",
      "display_name": "Python 3"
    },
    "language_info": {
      "name": "python"
    }
  },
  "cells": [
    {
      "cell_type": "code",
      "execution_count": 21,
      "metadata": {
        "colab": {
          "base_uri": "https://localhost:8080/"
        },
        "id": "O6ZBssTVHgKD",
        "outputId": "4b12fc94-c9cf-4cb5-f344-18c1e48ad6e4"
      },
      "outputs": [
        {
          "output_type": "stream",
          "name": "stdout",
          "text": [
            "Welcome to game\n",
            "I have a number 1-10\n",
            "What is it!? 7\n",
            "Your're too low.\n"
          ]
        }
      ],
      "source": [
        "import random\n",
        "\n",
        "def Number_Game():\n",
        "    print(\"Welcome to game\")\n",
        "    print(\"I have a number 1-10\")\n",
        "    number = random.randint(1, 10)\n",
        "\n",
        "    try:\n",
        "        guess = int(input(\"What is it!? \"))\n",
        "\n",
        "        if guess == number:\n",
        "            print(\"Wow u got it here's a medal.\")\n",
        "        elif guess > number:\n",
        "            print(\"Your're too high lol .\")\n",
        "        else:\n",
        "            print(\"Your're too low.\")\n",
        "\n",
        "    except ValueError:\n",
        "        print(\"Please enter a number.\")\n",
        "\n",
        "\n",
        "Number_Game()\n",
        "\n",
        "\n",
        "#Took me prolly about an hour"
      ]
    }
  ]
}