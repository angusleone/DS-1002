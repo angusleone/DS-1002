{
  "nbformat": 4,
  "nbformat_minor": 0,
  "metadata": {
    "colab": {
      "provenance": []
    },
    "kernelspec": {
      "name": "python3",
      "display_name": "Python 3"
    },
    "language_info": {
      "name": "python"
    }
  },
  "cells": [
    {
      "cell_type": "code",
      "execution_count": 23,
      "metadata": {
        "colab": {
          "base_uri": "https://localhost:8080/"
        },
        "id": "O6ZBssTVHgKD",
        "outputId": "daa637b5-8c1f-44af-d2c1-257da67141f2"
      },
      "outputs": [
        {
          "output_type": "stream",
          "name": "stdout",
          "text": [
            "Welcome to game, I have a number one through ten and you have to guess it brah\n",
            "What is it!? 8\n",
            "Your're too high lol .\n"
          ]
        }
      ],
      "source": [
        "import numpy as np\n",
        "number = np.random.randint(1, 10)\n",
        "\n",
        "def Number_Game():\n",
        "    print(\"Welcome to game, I have a number one through ten and you have to guess it brah\")\n",
        "\n",
        "\n",
        "\n",
        "    try:\n",
        "        guess = int(input(\"What is it!? \"))\n",
        "\n",
        "        if guess == number:\n",
        "            print(\"Wow u got it here's a medal.\")\n",
        "        elif guess > number:\n",
        "            print(\"Your're too high lol .\")\n",
        "        else:\n",
        "            print(\"Your're too low.\")\n",
        "\n",
        "    except ValueError:\n",
        "        print(\"Please enter a number.\")\n",
        "\n",
        "\n",
        "Number_Game()\n",
        "\n",
        "\n",
        "#Took me prolly about an hour"
      ]
    }
  ]
}