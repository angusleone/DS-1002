{
  "nbformat": 4,
  "nbformat_minor": 0,
  "metadata": {
    "colab": {
      "provenance": []
    },
    "kernelspec": {
      "name": "python3",
      "display_name": "Python 3"
    },
    "language_info": {
      "name": "python"
    }
  },
  "cells": [
    {
      "cell_type": "code",
      "execution_count": 20,
      "metadata": {
        "colab": {
          "base_uri": "https://localhost:8080/"
        },
        "id": "O6ZBssTVHgKD",
        "outputId": "e1af5c53-daab-4349-b297-8cf9dfe54a71"
      },
      "outputs": [
        {
          "output_type": "stream",
          "name": "stdout",
          "text": [
            "Welcome to my guessing game\n",
            "I have a number 1-10\n",
            "What is it!? 7\n",
            "Wow, nice job! You guessed it.\n"
          ]
        }
      ],
      "source": [
        "import random\n",
        "\n",
        "def Number_Game():\n",
        "    print(\"Welcome to my guessing game\")\n",
        "    print(\"I have a number 1-10\")\n",
        "    number = random.randint(1, 10)\n",
        "\n",
        "    try:\n",
        "        guess = int(input(\"What is it!? \"))\n",
        "\n",
        "        if guess == number:\n",
        "            print(\"Wow, nice job! You guessed it.\")\n",
        "        elif guess > number:\n",
        "            print(\"Your guess is too high.\")\n",
        "        else:\n",
        "            print(\"Your guess is too low.\")\n",
        "\n",
        "    except ValueError:\n",
        "        print(\"Please enter a number.\")\n",
        "\n",
        "\n",
        "Number_Game()\n",
        "\n",
        "\n",
        "#Took me prolly about an hour"
      ]
    }
  ]
}