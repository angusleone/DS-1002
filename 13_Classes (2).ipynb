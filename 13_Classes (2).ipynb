{
  "nbformat": 4,
  "nbformat_minor": 0,
  "metadata": {
    "colab": {
      "provenance": []
    },
    "kernelspec": {
      "name": "python3",
      "display_name": "Python 3"
    },
    "language_info": {
      "name": "python"
    }
  },
  "cells": [
    {
      "cell_type": "markdown",
      "source": [
        "## Assignment:  Classes\n",
        "### Due Sunday 28 April at 10pm"
      ],
      "metadata": {
        "id": "5Vy93BSp9Tum"
      }
    },
    {
      "cell_type": "markdown",
      "source": [
        "1.  Define a class called `Person` that has attributes `lastName`, `firstName`, `mother`, and `father`.  Both `mother` and `father` should have default value `unknown`.\n",
        "\n",
        "  Include a `__str__()` function that returns a string of the form '`firstName` `lastName`'.\n",
        "\n",
        "  Include a `__repr__()` function that returns a string that can be evaluated to recreate the `Person` object.\n",
        "\n"
      ],
      "metadata": {
        "id": "vcj5XQAI9Wsb"
      }
    },
    {
      "cell_type": "code",
      "source": [
        "class Person:\n",
        "    def __init__(self, firstName, lastName, mother='unknown', father='unknown'):\n",
        "        self.firstName = firstName\n",
        "        self.lastName = lastName\n",
        "        self.mother = mother\n",
        "        self.father = father\n",
        "\n",
        "    def __str__(self):\n",
        "        return f\"{self.firstName} {self.lastName}\"\n",
        "\n",
        "    def __repr__(self):\n",
        "        return f\"Person('{self.firstName}', '{self.lastName}', mother='{self.mother}', father='{self.father}')\"\n",
        "\n",
        "    def unknownParent(self):\n",
        "        return self.mother == 'unknown' or self.father == 'unknown'\n",
        "\n",
        "    def maternalGrandmother(self):\n",
        "        if isinstance(self.mother, Person):\n",
        "            return self.mother.mother\n",
        "        else:\n",
        "            return 'unknown'"
      ],
      "metadata": {
        "id": "mjHDwHv3EpVe"
      },
      "execution_count": 2,
      "outputs": []
    },
    {
      "cell_type": "markdown",
      "source": [
        "Create a person (i.e., a `Person` object) called `p` with unknown parents.  (You will need to give your person a first and last name.) Check the type of `p`.  Include all inputs and outputs."
      ],
      "metadata": {
        "id": "-ppMsEIVHINl"
      }
    },
    {
      "cell_type": "code",
      "source": [
        "\n",
        "p = Person('Lebron', 'Bryant')\n",
        "print(\"Type of p:\", type(p))"
      ],
      "metadata": {
        "id": "5bwid_6gHIBH",
        "colab": {
          "base_uri": "https://localhost:8080/"
        },
        "outputId": "ef34f817-5ce6-4c84-f0bf-fe6b0561de4e"
      },
      "execution_count": 10,
      "outputs": [
        {
          "output_type": "stream",
          "name": "stdout",
          "text": [
            "Type of p: <class '__main__.Person'>\n"
          ]
        }
      ]
    },
    {
      "cell_type": "markdown",
      "source": [
        "Verify that your `__str__` and `__repr__` functions are doing what they are supposed to do.  Include all inputs and outputs."
      ],
      "metadata": {
        "id": "Z6zlUC3xRtal"
      }
    },
    {
      "cell_type": "code",
      "source": [
        "\n",
        "print(\"__str__() result:\", str(p))\n",
        "print(\"__repr__() result:\", repr(p))"
      ],
      "metadata": {
        "id": "jZO0dBQYRs-K",
        "colab": {
          "base_uri": "https://localhost:8080/"
        },
        "outputId": "75519cf2-a4af-45a8-cb5e-df1887215236"
      },
      "execution_count": 11,
      "outputs": [
        {
          "output_type": "stream",
          "name": "stdout",
          "text": [
            "__str__() result: Lebron Bryant\n",
            "__repr__() result: Person('Lebron', 'Bryant', mother='unknown', father='unknown')\n"
          ]
        }
      ]
    },
    {
      "cell_type": "markdown",
      "source": [
        "Suppose the mother of `p` has been found and is named Taylor Swift.  Create a new person named Taylor Swift, and make her the mother of `p`:\n",
        "\n",
        "```\n",
        "> p.mother\n",
        "'Taylor Swift'\n",
        "```"
      ],
      "metadata": {
        "id": "1mOAThQiHzoQ"
      }
    },
    {
      "cell_type": "code",
      "source": [
        "class Person:\n",
        "    def __init__(self, firstName, lastName, mother='unknown', father='unknown'):\n",
        "        self.firstName = firstName\n",
        "        self.lastName = lastName\n",
        "        self.mother = mother\n",
        "        self.father = father\n",
        "\n",
        "    def __str__(self):\n",
        "        return f\"{self.firstName} {self.lastName}\"\n",
        "\n",
        "\n",
        "p = Person(\"ChildFirstName\", \"ChildLastName\")\n",
        "\n",
        "taylor_swift = Person(\"Taylor\", \"Swift\")\n",
        "\n",
        "p.mother = taylor_swift\n",
        "\n",
        "print(p.mother)\n"
      ],
      "metadata": {
        "id": "NYbDOorpHymz",
        "colab": {
          "base_uri": "https://localhost:8080/"
        },
        "outputId": "dc7efedb-a804-418f-c6bf-265a63d7a232"
      },
      "execution_count": 12,
      "outputs": [
        {
          "output_type": "stream",
          "name": "stdout",
          "text": [
            "Taylor Swift\n"
          ]
        }
      ]
    },
    {
      "cell_type": "markdown",
      "source": [
        "2.  Add some methods to your class.  Start by copying the `class` definition you already wrote.  Then, inside the `class` definition:\n",
        "\n",
        "  (a) Write a method called `unknownParent()` which returns `True` if any parent is 'unknown' and `False` otherwise.\n",
        "\n",
        "  (b) Write a method called `maternalGrandmother()` which returns the mother's mother.  If the mother is unknown, it should return 'unknown'.\n",
        "\n"
      ],
      "metadata": {
        "id": "1g1pcrmFHzGh"
      }
    },
    {
      "cell_type": "code",
      "source": [
        "class Person:\n",
        "    def __init__(self, lastName, firstName, mother='unknown', father='unknown'):\n",
        "        self.lastName = lastName\n",
        "        self.firstName = firstName\n",
        "        self.mother = mother\n",
        "        self.father = father\n",
        "\n",
        "    def __str__(self):\n",
        "        return f'{self.firstName} {self.lastName}'\n",
        "\n",
        "    def __repr__(self):\n",
        "        return f\"Person('{self.lastName}', '{self.firstName}', '{self.mother}', '{self.father}')\"\n",
        "\n",
        "    def unknownParent(self):\n",
        "        return self.mother == 'unknown' or self.father == 'unknown'\n",
        "\n",
        "    def maternalGrandmother(self):\n",
        "        if self.mother == 'unknown':\n",
        "            return 'unknown'\n",
        "        elif self.mother is None:\n",
        "            return None\n",
        "        else:\n",
        "            return self.mother.mother\n",
        "\n",
        "# Creating a person with unknown parents\n",
        "p = Person('Lebron', 'Bryant')\n",
        "\n",
        "# Check if any parent is unknown\n",
        "print(\"Is any parent unknown for p?\", p.unknownParent())\n",
        "\n",
        "# Creating a person named Taylor Swift\n",
        "taylor_swift = Person('Swift', 'Taylor')\n",
        "\n",
        "# Assigning Taylor Swift as the mother of 'p'\n",
        "p.mother = taylor_swift\n",
        "\n",
        "# Checking the maternal grandmother of 'p'\n",
        "print(\"Maternal grandmother of p:\", p.maternalGrandmother())"
      ],
      "metadata": {
        "id": "7mIxJGwwKTpv",
        "colab": {
          "base_uri": "https://localhost:8080/"
        },
        "outputId": "33f28b67-5c8c-4bab-fc3f-fc16cb96eea9"
      },
      "execution_count": 16,
      "outputs": [
        {
          "output_type": "stream",
          "name": "stdout",
          "text": [
            "Is any parent unknown for p? True\n",
            "Maternal grandmother of p: unknown\n"
          ]
        }
      ]
    },
    {
      "cell_type": "markdown",
      "source": [
        "Create enough `Person` objects to test whether your methods are working properly.  Show all your inputs and outputs.  It is up to you to demonstrate that you have thoroughly tested the code.  You may use additional code and/or text chunks if it helps."
      ],
      "metadata": {
        "id": "l9-4gxd8FxAQ"
      }
    },
    {
      "cell_type": "code",
      "source": [
        "mother = Person('BRO', 'BRAH')\n",
        "father = Person('Brobro', 'Brah')\n",
        "\n",
        "\n",
        "child = Person('little', 'bro', mother=mother, father=father)\n",
        "\n",
        "\n",
        "print(\"Is any parent unknown for little bro?\", child.unknownParent())\n",
        "\n",
        "print(\"Maternal grandmother of little bro:\", child.maternalGrandmother())"
      ],
      "metadata": {
        "colab": {
          "base_uri": "https://localhost:8080/"
        },
        "id": "rdkaKmdHzVkN",
        "outputId": "68008bf1-db32-45a8-8743-849f1464218b"
      },
      "execution_count": 17,
      "outputs": [
        {
          "output_type": "stream",
          "name": "stdout",
          "text": [
            "Is any parent unknown for little bro? False\n",
            "Maternal grandmother of little bro: unknown\n"
          ]
        }
      ]
    },
    {
      "cell_type": "code",
      "source": [
        "taylor_swift = Person('Swift', 'Taylor')\n",
        "\n",
        "lebron = Person('Lebron', 'Bryant', mother=taylor_swift)\n",
        "michael = Person('Michael', 'Curry', mother=taylor_swift)\n",
        "unknown_parent = Person('Michael', 'Unknown')\n",
        "\n",
        "print(\"Is any parent unknown for Lebron?\", lebron.unknownParent())\n",
        "print(\"Is any parent unknown for Michael?\", michael.unknownParent())\n",
        "print(\"Is any parent unknown for Unknown?\", unknown_parent.unknownParent())\n",
        "\n",
        "print(\"Maternal grandmother of Lebron:\", lebron.maternalGrandmother())\n",
        "print(\"Maternal grandmother of Michael:\", michael.maternalGrandmother())\n",
        "print(\"Maternal grandmother of Unknown:\", unknown_parent.maternalGrandmother())"
      ],
      "metadata": {
        "colab": {
          "base_uri": "https://localhost:8080/"
        },
        "id": "e6Q5p8K8zIRK",
        "outputId": "2a3da6ae-0d39-4d49-fb6c-55d3923b1aa4"
      },
      "execution_count": 18,
      "outputs": [
        {
          "output_type": "stream",
          "name": "stdout",
          "text": [
            "Is any parent unknown for Lebron? True\n",
            "Is any parent unknown for Michael? True\n",
            "Is any parent unknown for Unknown? True\n",
            "Maternal grandmother of Lebron: unknown\n",
            "Maternal grandmother of Michael: unknown\n",
            "Maternal grandmother of Unknown: unknown\n"
          ]
        }
      ]
    },
    {
      "cell_type": "code",
      "source": [
        "taylor_swift = Person('Swift', 'Taylor')\n",
        "\n",
        "\n",
        "Biggie = Person('smalls', 'biggie', mother=taylor_swift)\n",
        "Laura = Person('smalls', 'Laura', mother=Biggie)\n",
        "\n",
        "\n",
        "print(\"Is any parent unknown for Biggie?\", Biggie.unknownParent())\n",
        "print(\"Is any parent unknown for Laura?\", Laura.unknownParent())\n",
        "\n",
        "print(\"Maternal grandmother of Biggie:\", Biggie.maternalGrandmother())\n",
        "print(\"Maternal grandmother of Laura:\", Laura.maternalGrandmother())"
      ],
      "metadata": {
        "id": "gX1qpcKzFwoZ",
        "colab": {
          "base_uri": "https://localhost:8080/"
        },
        "outputId": "56fb76c7-acc5-4947-ac5a-69e65d2f60d1"
      },
      "execution_count": 19,
      "outputs": [
        {
          "output_type": "stream",
          "name": "stdout",
          "text": [
            "Is any parent unknown for Biggie? True\n",
            "Is any parent unknown for Laura? True\n",
            "Maternal grandmother of Biggie: unknown\n",
            "Maternal grandmother of Laura: Taylor Swift\n"
          ]
        }
      ]
    }
  ]
}